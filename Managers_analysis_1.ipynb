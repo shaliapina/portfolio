{
 "cells": [
  {
   "cell_type": "code",
   "execution_count": 80,
   "metadata": {},
   "outputs": [],
   "source": [
    "import pandas as pd\n",
    "from mlbase.db import MLData, Table\n",
    "import numpy as np\n",
    "import matplotlib.pyplot as plt\n",
    "import seaborn as sns\n",
    "import scipy.stats"
   ]
  },
  {
   "cell_type": "code",
   "execution_count": null,
   "metadata": {},
   "outputs": [],
   "source": [
    "'''Берем только тех менеджеров из таблицы manager_result, которые работали с юрлицами (status = 'active')\n",
    "Отметим, что менеджеры не всегда заполняли все поля\n",
    "\n",
    "user_id - id менеджера\n",
    "card-given - число сделок, закончившихся выдачей карт\n",
    "client_deny - число сделок, закончившихся отказом клиента\n",
    "appoint_made - число назначенных встреч\n",
    "appoint_postponed - число отложенных встреч\n",
    "road_map - число дорожных карт\n",
    "error_data - ошибочные данные\n",
    "potential - число сделок, в которых есть потенциал\n",
    "to_deny - число сделок, от которых менеджер отказался\n",
    "agreement_received - число полученных соглашений\n",
    "return-task - число задач, которые были возвращены\n",
    "overall - общее число выполненых и выполняемых задач\n",
    "active - число активных задач\n",
    "completed - число завершенных задач\n",
    "postponed - число отложенных задач\n",
    "declined - число отклоненных задач\n",
    "new - число новых задач\n",
    "in_progress - число обрабатываемых задач\n",
    "'''\n"
   ]
  },
  {
   "cell_type": "code",
   "execution_count": 82,
   "metadata": {},
   "outputs": [],
   "source": [
    "df = pd.read_sql('''select * from manager_result t1 inner join raw_3 t2 on t1.user_id = t2.id where t2.status = 'active' order by user_id''', db.engine)"
   ]
  },
  {
   "cell_type": "code",
   "execution_count": 83,
   "metadata": {},
   "outputs": [
    {
     "data": {
      "text/html": [
       "<div>\n",
       "<style scoped>\n",
       "    .dataframe tbody tr th:only-of-type {\n",
       "        vertical-align: middle;\n",
       "    }\n",
       "\n",
       "    .dataframe tbody tr th {\n",
       "        vertical-align: top;\n",
       "    }\n",
       "\n",
       "    .dataframe thead th {\n",
       "        text-align: right;\n",
       "    }\n",
       "</style>\n",
       "<table border=\"1\" class=\"dataframe\">\n",
       "  <thead>\n",
       "    <tr style=\"text-align: right;\">\n",
       "      <th></th>\n",
       "      <th>user_id</th>\n",
       "      <th>card_given</th>\n",
       "      <th>client_deny</th>\n",
       "      <th>appoint_made</th>\n",
       "      <th>appoint_postponed</th>\n",
       "      <th>road_map</th>\n",
       "      <th>error_data</th>\n",
       "      <th>potential</th>\n",
       "      <th>to_deny</th>\n",
       "      <th>agreement_received</th>\n",
       "      <th>return_task</th>\n",
       "      <th>overall</th>\n",
       "      <th>active</th>\n",
       "      <th>completed</th>\n",
       "      <th>postponed</th>\n",
       "      <th>declined</th>\n",
       "      <th>new</th>\n",
       "      <th>in_progress</th>\n",
       "      <th>id</th>\n",
       "      <th>role</th>\n",
       "      <th>role_id</th>\n",
       "      <th>created_at</th>\n",
       "      <th>updated_at</th>\n",
       "      <th>status</th>\n",
       "      <th>branch_id</th>\n",
       "      <th>office_id</th>\n",
       "      <th>city_id</th>\n",
       "    </tr>\n",
       "  </thead>\n",
       "  <tbody>\n",
       "    <tr>\n",
       "      <th>0</th>\n",
       "      <td>16</td>\n",
       "      <td>NaN</td>\n",
       "      <td>NaN</td>\n",
       "      <td>1.0</td>\n",
       "      <td>NaN</td>\n",
       "      <td>NaN</td>\n",
       "      <td>NaN</td>\n",
       "      <td>NaN</td>\n",
       "      <td>NaN</td>\n",
       "      <td>NaN</td>\n",
       "      <td>None</td>\n",
       "      <td>13</td>\n",
       "      <td>6.0</td>\n",
       "      <td>7.0</td>\n",
       "      <td>NaN</td>\n",
       "      <td>NaN</td>\n",
       "      <td>None</td>\n",
       "      <td>None</td>\n",
       "      <td>16</td>\n",
       "      <td>ГО</td>\n",
       "      <td>4.0</td>\n",
       "      <td>2020-03-04 01:44:59</td>\n",
       "      <td>2021-05-21 14:28:53</td>\n",
       "      <td>active</td>\n",
       "      <td>55.0</td>\n",
       "      <td>296.0</td>\n",
       "      <td>173.0</td>\n",
       "    </tr>\n",
       "    <tr>\n",
       "      <th>1</th>\n",
       "      <td>18</td>\n",
       "      <td>NaN</td>\n",
       "      <td>2.0</td>\n",
       "      <td>92.0</td>\n",
       "      <td>2.0</td>\n",
       "      <td>1.0</td>\n",
       "      <td>NaN</td>\n",
       "      <td>NaN</td>\n",
       "      <td>NaN</td>\n",
       "      <td>NaN</td>\n",
       "      <td>None</td>\n",
       "      <td>99</td>\n",
       "      <td>2.0</td>\n",
       "      <td>95.0</td>\n",
       "      <td>2.0</td>\n",
       "      <td>NaN</td>\n",
       "      <td>None</td>\n",
       "      <td>None</td>\n",
       "      <td>18</td>\n",
       "      <td>Менеджер по продажам ЗП</td>\n",
       "      <td>1.0</td>\n",
       "      <td>2020-03-04 01:44:59</td>\n",
       "      <td>2021-05-21 14:28:53</td>\n",
       "      <td>active</td>\n",
       "      <td>55.0</td>\n",
       "      <td>NaN</td>\n",
       "      <td>173.0</td>\n",
       "    </tr>\n",
       "    <tr>\n",
       "      <th>2</th>\n",
       "      <td>19</td>\n",
       "      <td>NaN</td>\n",
       "      <td>NaN</td>\n",
       "      <td>358.0</td>\n",
       "      <td>5.0</td>\n",
       "      <td>80.0</td>\n",
       "      <td>NaN</td>\n",
       "      <td>2.0</td>\n",
       "      <td>NaN</td>\n",
       "      <td>NaN</td>\n",
       "      <td>None</td>\n",
       "      <td>452</td>\n",
       "      <td>4.0</td>\n",
       "      <td>443.0</td>\n",
       "      <td>5.0</td>\n",
       "      <td>NaN</td>\n",
       "      <td>None</td>\n",
       "      <td>None</td>\n",
       "      <td>19</td>\n",
       "      <td>Менеджер по продажам ЗП</td>\n",
       "      <td>1.0</td>\n",
       "      <td>2020-03-04 01:44:59</td>\n",
       "      <td>2021-05-21 14:28:53</td>\n",
       "      <td>active</td>\n",
       "      <td>55.0</td>\n",
       "      <td>296.0</td>\n",
       "      <td>173.0</td>\n",
       "    </tr>\n",
       "    <tr>\n",
       "      <th>3</th>\n",
       "      <td>20</td>\n",
       "      <td>NaN</td>\n",
       "      <td>NaN</td>\n",
       "      <td>198.0</td>\n",
       "      <td>1.0</td>\n",
       "      <td>194.0</td>\n",
       "      <td>NaN</td>\n",
       "      <td>19.0</td>\n",
       "      <td>NaN</td>\n",
       "      <td>NaN</td>\n",
       "      <td>None</td>\n",
       "      <td>419</td>\n",
       "      <td>7.0</td>\n",
       "      <td>411.0</td>\n",
       "      <td>1.0</td>\n",
       "      <td>NaN</td>\n",
       "      <td>None</td>\n",
       "      <td>None</td>\n",
       "      <td>20</td>\n",
       "      <td>Менеджер по продажам ЗП</td>\n",
       "      <td>1.0</td>\n",
       "      <td>2020-03-04 01:44:59</td>\n",
       "      <td>2021-05-21 14:28:53</td>\n",
       "      <td>active</td>\n",
       "      <td>55.0</td>\n",
       "      <td>296.0</td>\n",
       "      <td>173.0</td>\n",
       "    </tr>\n",
       "    <tr>\n",
       "      <th>4</th>\n",
       "      <td>21</td>\n",
       "      <td>NaN</td>\n",
       "      <td>NaN</td>\n",
       "      <td>235.0</td>\n",
       "      <td>NaN</td>\n",
       "      <td>55.0</td>\n",
       "      <td>NaN</td>\n",
       "      <td>NaN</td>\n",
       "      <td>NaN</td>\n",
       "      <td>NaN</td>\n",
       "      <td>None</td>\n",
       "      <td>293</td>\n",
       "      <td>NaN</td>\n",
       "      <td>293.0</td>\n",
       "      <td>NaN</td>\n",
       "      <td>NaN</td>\n",
       "      <td>None</td>\n",
       "      <td>None</td>\n",
       "      <td>21</td>\n",
       "      <td>Менеджер по продажам ЗП</td>\n",
       "      <td>1.0</td>\n",
       "      <td>2020-03-04 01:44:59</td>\n",
       "      <td>2021-05-21 14:28:53</td>\n",
       "      <td>active</td>\n",
       "      <td>55.0</td>\n",
       "      <td>295.0</td>\n",
       "      <td>173.0</td>\n",
       "    </tr>\n",
       "  </tbody>\n",
       "</table>\n",
       "</div>"
      ],
      "text/plain": [
       "   user_id  card_given  client_deny  appoint_made  appoint_postponed  \\\n",
       "0       16         NaN          NaN           1.0                NaN   \n",
       "1       18         NaN          2.0          92.0                2.0   \n",
       "2       19         NaN          NaN         358.0                5.0   \n",
       "3       20         NaN          NaN         198.0                1.0   \n",
       "4       21         NaN          NaN         235.0                NaN   \n",
       "\n",
       "   road_map  error_data  potential  to_deny  agreement_received return_task  \\\n",
       "0       NaN         NaN        NaN      NaN                 NaN        None   \n",
       "1       1.0         NaN        NaN      NaN                 NaN        None   \n",
       "2      80.0         NaN        2.0      NaN                 NaN        None   \n",
       "3     194.0         NaN       19.0      NaN                 NaN        None   \n",
       "4      55.0         NaN        NaN      NaN                 NaN        None   \n",
       "\n",
       "   overall  active  completed  postponed  declined   new in_progress  id  \\\n",
       "0       13     6.0        7.0        NaN       NaN  None        None  16   \n",
       "1       99     2.0       95.0        2.0       NaN  None        None  18   \n",
       "2      452     4.0      443.0        5.0       NaN  None        None  19   \n",
       "3      419     7.0      411.0        1.0       NaN  None        None  20   \n",
       "4      293     NaN      293.0        NaN       NaN  None        None  21   \n",
       "\n",
       "                      role  role_id           created_at           updated_at  \\\n",
       "0                       ГО      4.0  2020-03-04 01:44:59  2021-05-21 14:28:53   \n",
       "1  Менеджер по продажам ЗП      1.0  2020-03-04 01:44:59  2021-05-21 14:28:53   \n",
       "2  Менеджер по продажам ЗП      1.0  2020-03-04 01:44:59  2021-05-21 14:28:53   \n",
       "3  Менеджер по продажам ЗП      1.0  2020-03-04 01:44:59  2021-05-21 14:28:53   \n",
       "4  Менеджер по продажам ЗП      1.0  2020-03-04 01:44:59  2021-05-21 14:28:53   \n",
       "\n",
       "   status  branch_id  office_id  city_id  \n",
       "0  active       55.0      296.0    173.0  \n",
       "1  active       55.0        NaN    173.0  \n",
       "2  active       55.0      296.0    173.0  \n",
       "3  active       55.0      296.0    173.0  \n",
       "4  active       55.0      295.0    173.0  "
      ]
     },
     "execution_count": 83,
     "metadata": {},
     "output_type": "execute_result"
    }
   ],
   "source": [
    "pd.set_option('max_columns', None)\n",
    "df.head()"
   ]
  },
  {
   "cell_type": "code",
   "execution_count": 84,
   "metadata": {},
   "outputs": [
    {
     "data": {
      "text/plain": [
       "Index(['user_id', 'card_given', 'client_deny', 'appoint_made',\n",
       "       'appoint_postponed', 'road_map', 'error_data', 'potential', 'to_deny',\n",
       "       'agreement_received', 'return_task', 'overall', 'active', 'completed',\n",
       "       'postponed', 'declined', 'new', 'in_progress', 'id', 'role', 'role_id',\n",
       "       'created_at', 'updated_at', 'status', 'branch_id', 'office_id',\n",
       "       'city_id'],\n",
       "      dtype='object')"
      ]
     },
     "execution_count": 84,
     "metadata": {},
     "output_type": "execute_result"
    }
   ],
   "source": [
    "df.columns"
   ]
  },
  {
   "cell_type": "code",
   "execution_count": 85,
   "metadata": {},
   "outputs": [],
   "source": [
    "#Заполняем нулями пропуски"
   ]
  },
  {
   "cell_type": "code",
   "execution_count": 86,
   "metadata": {},
   "outputs": [],
   "source": [
    "df[['card_given', 'client_deny', 'appoint_made',\n",
    "       'appoint_postponed', 'road_map', 'error_data', 'potential', 'to_deny',\n",
    "       'agreement_received', 'return_task', 'overall', 'active', 'completed',\n",
    "       'postponed', 'declined', 'new', 'in_progress']] = df[['card_given', 'client_deny', 'appoint_made',\n",
    "       'appoint_postponed', 'road_map', 'error_data', 'potential', 'to_deny',\n",
    "       'agreement_received', 'return_task', 'overall', 'active', 'completed',\n",
    "       'postponed', 'declined', 'new', 'in_progress']].fillna(0)"
   ]
  },
  {
   "cell_type": "code",
   "execution_count": 90,
   "metadata": {},
   "outputs": [
    {
     "data": {
      "text/plain": [
       "0.06774836543010711"
      ]
     },
     "execution_count": 90,
     "metadata": {},
     "output_type": "execute_result"
    }
   ],
   "source": [
    "sum(df['client_deny'])/sum(df['completed'])"
   ]
  },
  {
   "cell_type": "code",
   "execution_count": 88,
   "metadata": {},
   "outputs": [],
   "source": [
    "df['client_deny_to_overall'] = df['client_deny']/df['overall']*100"
   ]
  },
  {
   "cell_type": "code",
   "execution_count": 89,
   "metadata": {},
   "outputs": [
    {
     "data": {
      "image/png": "[encoded data removed]",
      "text/plain": [
       "<Figure size 432x288 with 1 Axes>"
      ]
     },
     "metadata": {
      "needs_background": "light"
     },
     "output_type": "display_data"
    }
   ],
   "source": [
    "y = df.sort_values(by='client_deny_to_overall', ascending=False)['overall'][:15]\n",
    "col = np.where(y<10, 'r', 'blue')\n",
    "plt.bar(df.sort_values(by='client_deny_to_overall', ascending=False)['user_id'].astype('str')[:15], df.sort_values(by='client_deny_to_overall', ascending=False)['client_deny_to_overall'][:15], color=col)\n",
    "plt.title('Топ-15 отстающих менеджеров (по доли отказов клиентов). \\n Красным цветом выделены менеджеры с малым числом задач (<10)')\n",
    "plt.xticks(rotation=90)\n",
    "plt.show()"
   ]
  },
  {
   "cell_type": "code",
   "execution_count": 53,
   "metadata": {},
   "outputs": [
    {
     "data": {
      "image/png": "[encoded data removed]",
      "text/plain": [
       "<Figure size 432x288 with 1 Axes>"
      ]
     },
     "metadata": {
      "needs_background": "light"
     },
     "output_type": "display_data"
    }
   ],
   "source": [
    "y = df.sort_values(by = 'client_deny_to_overall', ascending = False)['overall'][:15]\n",
    "col = np.where(y < 10, 'r', 'blue')\n",
    "plt.bar(df.sort_values(by='client_deny_to_overall', ascending=False)['user_id'].astype('str')[:15], df.sort_values(by='client_deny_to_overall', ascending=False)['overall'][:15], color=col)\n",
    "plt.title('Общее число задач этих неудачливых менеджеров. \\n Красным цветом выделены менеджеры с малым числом задач (<10)')\n",
    "plt.xticks(rotation=90)\n",
    "plt.show()"
   ]
  },
  {
   "cell_type": "code",
   "execution_count": 25,
   "metadata": {},
   "outputs": [
    {
     "name": "stdout",
     "output_type": "stream",
     "text": [
      "8302 4\n",
      "5947 7\n",
      "6890 9\n",
      "5890 26\n",
      "6226 105\n",
      "6253 39\n",
      "8180 64\n",
      "6891 28\n",
      "6213 13\n",
      "8301 12\n",
      "3586 113\n",
      "6072 61\n",
      "8319 10\n",
      "8275 10\n",
      "6888 34\n"
     ]
    }
   ],
   "source": [
    "for k, v in zip(df.sort_values(by='client_deny_to_overall', ascending=False)['user_id'].astype('str')[:15], df.sort_values(by='client_deny_to_overall', ascending=False)['overall'][:15]):\n",
    "    print(k, v)"
   ]
  },
  {
   "cell_type": "code",
   "execution_count": 55,
   "metadata": {},
   "outputs": [],
   "source": [
    "df['error_data_to_overall'] = df['error_data']/df['overall']*100"
   ]
  },
  {
   "cell_type": "code",
   "execution_count": 56,
   "metadata": {},
   "outputs": [
    {
     "data": {
      "image/png": "[encoded data removed]",
      "text/plain": [
       "<Figure size 432x288 with 1 Axes>"
      ]
     },
     "metadata": {
      "needs_background": "light"
     },
     "output_type": "display_data"
    }
   ],
   "source": [
    "y = df.sort_values(by='error_data_to_overall', ascending=False)['overall'][:15]\n",
    "col = np.where(y<10, 'r', 'blue')\n",
    "plt.bar(df.sort_values(by='error_data_to_overall', ascending=False)['user_id'].astype('str')[:15], df.sort_values(by='error_data_to_overall', ascending=False)['error_data_to_overall'][:15], color=col)\n",
    "plt.title('Топ-15 менеджеров, которым чаще всего попадаются ошибочные данные (доля в общем числе задач). \\n Красным цветом выделены менеджеры с малым числом задач (<10)')\n",
    "plt.xticks(rotation=90)\n",
    "plt.xlabel('id')\n",
    "plt.ylabel('% ошибочных данных')\n",
    "plt.show()"
   ]
  },
  {
   "cell_type": "code",
   "execution_count": 57,
   "metadata": {},
   "outputs": [
    {
     "data": {
      "image/png": "[encoded data removed]",
      "text/plain": [
       "<Figure size 432x288 with 1 Axes>"
      ]
     },
     "metadata": {
      "needs_background": "light"
     },
     "output_type": "display_data"
    }
   ],
   "source": [
    "y = df.sort_values(by='error_data_to_overall', ascending=False)['overall'][:15]\n",
    "col = np.where(y<10, 'r', 'blue')\n",
    "plt.bar(df.sort_values(by='error_data_to_overall', ascending=False)['user_id'].astype('str')[:15], df.sort_values(by='error_data_to_overall', ascending=False)['overall'][:15], color=col)\n",
    "plt.title('Общее число задач этих менеджеров, которым часто попадаются ошибочные данные. \\n Красным цветом выделены менеджеры с малым числом задач (<10)')\n",
    "plt.xticks(rotation=90)\n",
    "plt.show()"
   ]
  },
  {
   "cell_type": "code",
   "execution_count": 58,
   "metadata": {},
   "outputs": [],
   "source": [
    "#Почему у некоторых опытных менеджеров так часто попадаются ошибки в данных? Возможно, менеджер отлынивает от работы или скрывает свои неудачи"
   ]
  },
  {
   "cell_type": "code",
   "execution_count": 71,
   "metadata": {},
   "outputs": [
    {
     "name": "stdout",
     "output_type": "stream",
     "text": [
      "Менеджеры, у которых было более 10 задач и у которых ошибки в данных встречаются в >10% случаев\n"
     ]
    },
    {
     "name": "stderr",
     "output_type": "stream",
     "text": [
      "<ipython-input-71-4e437602a74d>:2: UserWarning: Boolean Series key will be reindexed to match DataFrame index.\n",
      "  df[df['error_data_to_overall']>=10][df['overall']>=10][['user_id', 'error_data_to_overall','error_data','overall']].sort_values(by = 'error_data_to_overall', ascending = False)\n"
     ]
    },
    {
     "data": {
      "text/html": [
       "<div>\n",
       "<style scoped>\n",
       "    .dataframe tbody tr th:only-of-type {\n",
       "        vertical-align: middle;\n",
       "    }\n",
       "\n",
       "    .dataframe tbody tr th {\n",
       "        vertical-align: top;\n",
       "    }\n",
       "\n",
       "    .dataframe thead th {\n",
       "        text-align: right;\n",
       "    }\n",
       "</style>\n",
       "<table border=\"1\" class=\"dataframe\">\n",
       "  <thead>\n",
       "    <tr style=\"text-align: right;\">\n",
       "      <th></th>\n",
       "      <th>user_id</th>\n",
       "      <th>error_data_to_overall</th>\n",
       "      <th>error_data</th>\n",
       "      <th>overall</th>\n",
       "    </tr>\n",
       "  </thead>\n",
       "  <tbody>\n",
       "    <tr>\n",
       "      <th>1192</th>\n",
       "      <td>8151</td>\n",
       "      <td>78.571429</td>\n",
       "      <td>11.0</td>\n",
       "      <td>14</td>\n",
       "    </tr>\n",
       "    <tr>\n",
       "      <th>727</th>\n",
       "      <td>6189</td>\n",
       "      <td>56.198347</td>\n",
       "      <td>68.0</td>\n",
       "      <td>121</td>\n",
       "    </tr>\n",
       "    <tr>\n",
       "      <th>1136</th>\n",
       "      <td>7887</td>\n",
       "      <td>40.072202</td>\n",
       "      <td>111.0</td>\n",
       "      <td>277</td>\n",
       "    </tr>\n",
       "    <tr>\n",
       "      <th>668</th>\n",
       "      <td>6115</td>\n",
       "      <td>40.000000</td>\n",
       "      <td>40.0</td>\n",
       "      <td>100</td>\n",
       "    </tr>\n",
       "    <tr>\n",
       "      <th>881</th>\n",
       "      <td>6782</td>\n",
       "      <td>39.285714</td>\n",
       "      <td>33.0</td>\n",
       "      <td>84</td>\n",
       "    </tr>\n",
       "    <tr>\n",
       "      <th>916</th>\n",
       "      <td>6895</td>\n",
       "      <td>35.185185</td>\n",
       "      <td>19.0</td>\n",
       "      <td>54</td>\n",
       "    </tr>\n",
       "    <tr>\n",
       "      <th>810</th>\n",
       "      <td>6296</td>\n",
       "      <td>32.352941</td>\n",
       "      <td>11.0</td>\n",
       "      <td>34</td>\n",
       "    </tr>\n",
       "    <tr>\n",
       "      <th>316</th>\n",
       "      <td>3458</td>\n",
       "      <td>30.303030</td>\n",
       "      <td>20.0</td>\n",
       "      <td>66</td>\n",
       "    </tr>\n",
       "    <tr>\n",
       "      <th>665</th>\n",
       "      <td>6112</td>\n",
       "      <td>25.333333</td>\n",
       "      <td>19.0</td>\n",
       "      <td>75</td>\n",
       "    </tr>\n",
       "    <tr>\n",
       "      <th>1184</th>\n",
       "      <td>8005</td>\n",
       "      <td>24.175824</td>\n",
       "      <td>22.0</td>\n",
       "      <td>91</td>\n",
       "    </tr>\n",
       "    <tr>\n",
       "      <th>774</th>\n",
       "      <td>6246</td>\n",
       "      <td>23.728814</td>\n",
       "      <td>14.0</td>\n",
       "      <td>59</td>\n",
       "    </tr>\n",
       "    <tr>\n",
       "      <th>385</th>\n",
       "      <td>3577</td>\n",
       "      <td>20.125786</td>\n",
       "      <td>32.0</td>\n",
       "      <td>159</td>\n",
       "    </tr>\n",
       "    <tr>\n",
       "      <th>26</th>\n",
       "      <td>55</td>\n",
       "      <td>19.480519</td>\n",
       "      <td>15.0</td>\n",
       "      <td>77</td>\n",
       "    </tr>\n",
       "    <tr>\n",
       "      <th>314</th>\n",
       "      <td>3456</td>\n",
       "      <td>18.666667</td>\n",
       "      <td>14.0</td>\n",
       "      <td>75</td>\n",
       "    </tr>\n",
       "    <tr>\n",
       "      <th>909</th>\n",
       "      <td>6886</td>\n",
       "      <td>16.216216</td>\n",
       "      <td>6.0</td>\n",
       "      <td>37</td>\n",
       "    </tr>\n",
       "    <tr>\n",
       "      <th>748</th>\n",
       "      <td>6214</td>\n",
       "      <td>14.814815</td>\n",
       "      <td>8.0</td>\n",
       "      <td>54</td>\n",
       "    </tr>\n",
       "    <tr>\n",
       "      <th>735</th>\n",
       "      <td>6198</td>\n",
       "      <td>12.500000</td>\n",
       "      <td>8.0</td>\n",
       "      <td>64</td>\n",
       "    </tr>\n",
       "    <tr>\n",
       "      <th>507</th>\n",
       "      <td>5909</td>\n",
       "      <td>12.403101</td>\n",
       "      <td>16.0</td>\n",
       "      <td>129</td>\n",
       "    </tr>\n",
       "    <tr>\n",
       "      <th>363</th>\n",
       "      <td>3528</td>\n",
       "      <td>10.909091</td>\n",
       "      <td>72.0</td>\n",
       "      <td>660</td>\n",
       "    </tr>\n",
       "    <tr>\n",
       "      <th>84</th>\n",
       "      <td>2626</td>\n",
       "      <td>10.243902</td>\n",
       "      <td>105.0</td>\n",
       "      <td>1025</td>\n",
       "    </tr>\n",
       "  </tbody>\n",
       "</table>\n",
       "</div>"
      ],
      "text/plain": [
       "      user_id  error_data_to_overall  error_data  overall\n",
       "1192     8151              78.571429        11.0       14\n",
       "727      6189              56.198347        68.0      121\n",
       "1136     7887              40.072202       111.0      277\n",
       "668      6115              40.000000        40.0      100\n",
       "881      6782              39.285714        33.0       84\n",
       "916      6895              35.185185        19.0       54\n",
       "810      6296              32.352941        11.0       34\n",
       "316      3458              30.303030        20.0       66\n",
       "665      6112              25.333333        19.0       75\n",
       "1184     8005              24.175824        22.0       91\n",
       "774      6246              23.728814        14.0       59\n",
       "385      3577              20.125786        32.0      159\n",
       "26         55              19.480519        15.0       77\n",
       "314      3456              18.666667        14.0       75\n",
       "909      6886              16.216216         6.0       37\n",
       "748      6214              14.814815         8.0       54\n",
       "735      6198              12.500000         8.0       64\n",
       "507      5909              12.403101        16.0      129\n",
       "363      3528              10.909091        72.0      660\n",
       "84       2626              10.243902       105.0     1025"
      ]
     },
     "execution_count": 71,
     "metadata": {},
     "output_type": "execute_result"
    }
   ],
   "source": [
    "print('Менеджеры, у которых было более 10 задач и у которых ошибки в данных встречаются в >10% случаев')\n",
    "df[df['error_data_to_overall']>=10][df['overall']>=10][['user_id', 'error_data_to_overall','error_data','overall']].sort_values(by = 'error_data_to_overall', ascending = False)"
   ]
  },
  {
   "cell_type": "code",
   "execution_count": 60,
   "metadata": {},
   "outputs": [
    {
     "data": {
      "image/png": "[encoded data removed]",
      "text/plain": [
       "<Figure size 432x288 with 1 Axes>"
      ]
     },
     "metadata": {
      "needs_background": "light"
     },
     "output_type": "display_data"
    }
   ],
   "source": [
    "plt.title('Распределение доли ошибочных данных в общем числе задач менеджера')\n",
    "plt.hist(df['error_data_to_overall'], color='b')\n",
    "plt.xlabel('%')\n",
    "plt.ylabel('Xbc')\n",
    "plt.show()"
   ]
  },
  {
   "cell_type": "code",
   "execution_count": 65,
   "metadata": {},
   "outputs": [],
   "source": [
    "#Находим доверительный интервал"
   ]
  },
  {
   "cell_type": "code",
   "execution_count": 66,
   "metadata": {},
   "outputs": [],
   "source": [
    "def mean_confidence_interval(data, confidence=0.99):\n",
    "    a = 1.0 * np.array(data)\n",
    "    n = len(a)\n",
    "    m, se = np.mean(a), scipy.stats.sem(a)\n",
    "    h = se * scipy.stats.t.ppf((1 + confidence) / 2., n-1)\n",
    "    print('mean, min, max')\n",
    "    return m, m-h, m+h"
   ]
  },
  {
   "cell_type": "code",
   "execution_count": 67,
   "metadata": {},
   "outputs": [
    {
     "name": "stdout",
     "output_type": "stream",
     "text": [
      "mean, min, max\n"
     ]
    },
    {
     "data": {
      "text/plain": [
       "(0.8335700615201833, 0.47918566423055037, 1.1879544588098163)"
      ]
     },
     "execution_count": 67,
     "metadata": {},
     "output_type": "execute_result"
    }
   ],
   "source": [
    "mean_confidence_interval(df['error_data_to_overall'][df.error_data_to_overall.notnull()])"
   ]
  },
  {
   "cell_type": "code",
   "execution_count": 73,
   "metadata": {},
   "outputs": [],
   "source": [
    "df['to_deny_to_overall'] = df['to_deny']/df['overall']*100"
   ]
  },
  {
   "cell_type": "code",
   "execution_count": 79,
   "metadata": {},
   "outputs": [
    {
     "data": {
      "image/png": "[encoded data removed]",
      "text/plain": [
       "<Figure size 432x288 with 1 Axes>"
      ]
     },
     "metadata": {
      "needs_background": "light"
     },
     "output_type": "display_data"
    }
   ],
   "source": [
    "y = df.sort_values(by='to_deny_to_overall', ascending=False)['overall'][:15]\n",
    "col = np.where(y<10, 'r', 'blue')\n",
    "plt.bar(df.sort_values(by = 'to_deny_to_overall', ascending=False)['user_id'].astype('str')[:15], df.sort_values(by='to_deny_to_overall', ascending=False)['to_deny_to_overall'][:15], color=col)\n",
    "plt.title('Топ-15 привередливых менеджеров (по доли отказов от заказов)')\n",
    "plt.xticks(rotation=90)\n",
    "plt.show()"
   ]
  },
  {
   "cell_type": "code",
   "execution_count": 100,
   "metadata": {},
   "outputs": [],
   "source": [
    "#среди топ-15 нет новичков (по общему числу заказов). Возможно, такие 'вольности' позволяют себе только опытные менеджеры или они лучше предсказывают имеет ли смысл заниматься клиентом"
   ]
  },
  {
   "cell_type": "code",
   "execution_count": 77,
   "metadata": {},
   "outputs": [
    {
     "data": {
      "image/png": "[encoded data removed]",
      "text/plain": [
       "<Figure size 432x288 with 1 Axes>"
      ]
     },
     "metadata": {
      "needs_background": "light"
     },
     "output_type": "display_data"
    }
   ],
   "source": [
    "y = df.sort_values(by='to_deny_to_overall', ascending=False)['overall'][:15]\n",
    "col = np.where(y<10, 'r', 'blue')\n",
    "plt.bar(df.sort_values(by='to_deny_to_overall', ascending=False)['user_id'].astype('str')[:15], df.sort_values(by='to_deny_to_overall', ascending=False)['overall'][:15], color=col)\n",
    "plt.title('Общее число задач этих привередливых менеджеров')\n",
    "plt.xticks(rotation=90)\n",
    "plt.show()"
   ]
  },
  {
   "cell_type": "code",
   "execution_count": 78,
   "metadata": {},
   "outputs": [
    {
     "data": {
      "text/html": [
       "<div>\n",
       "<style scoped>\n",
       "    .dataframe tbody tr th:only-of-type {\n",
       "        vertical-align: middle;\n",
       "    }\n",
       "\n",
       "    .dataframe tbody tr th {\n",
       "        vertical-align: top;\n",
       "    }\n",
       "\n",
       "    .dataframe thead th {\n",
       "        text-align: right;\n",
       "    }\n",
       "</style>\n",
       "<table border=\"1\" class=\"dataframe\">\n",
       "  <thead>\n",
       "    <tr style=\"text-align: right;\">\n",
       "      <th></th>\n",
       "      <th>user_id</th>\n",
       "      <th>card_given</th>\n",
       "      <th>client_deny</th>\n",
       "      <th>appoint_made</th>\n",
       "      <th>appoint_postponed</th>\n",
       "      <th>road_map</th>\n",
       "      <th>error_data</th>\n",
       "      <th>potential</th>\n",
       "      <th>to_deny</th>\n",
       "      <th>agreement_received</th>\n",
       "      <th>return_task</th>\n",
       "      <th>overall</th>\n",
       "      <th>active</th>\n",
       "      <th>completed</th>\n",
       "      <th>postponed</th>\n",
       "      <th>declined</th>\n",
       "      <th>new</th>\n",
       "      <th>in_progress</th>\n",
       "      <th>id</th>\n",
       "      <th>role</th>\n",
       "      <th>role_id</th>\n",
       "      <th>created_at</th>\n",
       "      <th>updated_at</th>\n",
       "      <th>status</th>\n",
       "      <th>branch_id</th>\n",
       "      <th>office_id</th>\n",
       "      <th>city_id</th>\n",
       "      <th>client_deny_to_overall</th>\n",
       "      <th>error_data_to_overall</th>\n",
       "      <th>to_deny_to_overall</th>\n",
       "    </tr>\n",
       "  </thead>\n",
       "  <tbody>\n",
       "    <tr>\n",
       "      <th>0</th>\n",
       "      <td>16</td>\n",
       "      <td>0.0</td>\n",
       "      <td>0.0</td>\n",
       "      <td>1.0</td>\n",
       "      <td>0.0</td>\n",
       "      <td>0.0</td>\n",
       "      <td>0.0</td>\n",
       "      <td>0.0</td>\n",
       "      <td>0.0</td>\n",
       "      <td>0.0</td>\n",
       "      <td>0</td>\n",
       "      <td>13</td>\n",
       "      <td>6.0</td>\n",
       "      <td>7.0</td>\n",
       "      <td>0.0</td>\n",
       "      <td>0.0</td>\n",
       "      <td>0</td>\n",
       "      <td>0</td>\n",
       "      <td>16</td>\n",
       "      <td>ГО</td>\n",
       "      <td>4.0</td>\n",
       "      <td>2020-03-04 01:44:59</td>\n",
       "      <td>2021-05-21 14:28:53</td>\n",
       "      <td>active</td>\n",
       "      <td>55.0</td>\n",
       "      <td>296.0</td>\n",
       "      <td>173.0</td>\n",
       "      <td>0.000000</td>\n",
       "      <td>0.0</td>\n",
       "      <td>0.0</td>\n",
       "    </tr>\n",
       "    <tr>\n",
       "      <th>1</th>\n",
       "      <td>18</td>\n",
       "      <td>0.0</td>\n",
       "      <td>2.0</td>\n",
       "      <td>92.0</td>\n",
       "      <td>2.0</td>\n",
       "      <td>1.0</td>\n",
       "      <td>0.0</td>\n",
       "      <td>0.0</td>\n",
       "      <td>0.0</td>\n",
       "      <td>0.0</td>\n",
       "      <td>0</td>\n",
       "      <td>99</td>\n",
       "      <td>2.0</td>\n",
       "      <td>95.0</td>\n",
       "      <td>2.0</td>\n",
       "      <td>0.0</td>\n",
       "      <td>0</td>\n",
       "      <td>0</td>\n",
       "      <td>18</td>\n",
       "      <td>Менеджер по продажам ЗП</td>\n",
       "      <td>1.0</td>\n",
       "      <td>2020-03-04 01:44:59</td>\n",
       "      <td>2021-05-21 14:28:53</td>\n",
       "      <td>active</td>\n",
       "      <td>55.0</td>\n",
       "      <td>NaN</td>\n",
       "      <td>173.0</td>\n",
       "      <td>2.020202</td>\n",
       "      <td>0.0</td>\n",
       "      <td>0.0</td>\n",
       "    </tr>\n",
       "    <tr>\n",
       "      <th>2</th>\n",
       "      <td>19</td>\n",
       "      <td>0.0</td>\n",
       "      <td>0.0</td>\n",
       "      <td>358.0</td>\n",
       "      <td>5.0</td>\n",
       "      <td>80.0</td>\n",
       "      <td>0.0</td>\n",
       "      <td>2.0</td>\n",
       "      <td>0.0</td>\n",
       "      <td>0.0</td>\n",
       "      <td>0</td>\n",
       "      <td>452</td>\n",
       "      <td>4.0</td>\n",
       "      <td>443.0</td>\n",
       "      <td>5.0</td>\n",
       "      <td>0.0</td>\n",
       "      <td>0</td>\n",
       "      <td>0</td>\n",
       "      <td>19</td>\n",
       "      <td>Менеджер по продажам ЗП</td>\n",
       "      <td>1.0</td>\n",
       "      <td>2020-03-04 01:44:59</td>\n",
       "      <td>2021-05-21 14:28:53</td>\n",
       "      <td>active</td>\n",
       "      <td>55.0</td>\n",
       "      <td>296.0</td>\n",
       "      <td>173.0</td>\n",
       "      <td>0.000000</td>\n",
       "      <td>0.0</td>\n",
       "      <td>0.0</td>\n",
       "    </tr>\n",
       "    <tr>\n",
       "      <th>3</th>\n",
       "      <td>20</td>\n",
       "      <td>0.0</td>\n",
       "      <td>0.0</td>\n",
       "      <td>198.0</td>\n",
       "      <td>1.0</td>\n",
       "      <td>194.0</td>\n",
       "      <td>0.0</td>\n",
       "      <td>19.0</td>\n",
       "      <td>0.0</td>\n",
       "      <td>0.0</td>\n",
       "      <td>0</td>\n",
       "      <td>419</td>\n",
       "      <td>7.0</td>\n",
       "      <td>411.0</td>\n",
       "      <td>1.0</td>\n",
       "      <td>0.0</td>\n",
       "      <td>0</td>\n",
       "      <td>0</td>\n",
       "      <td>20</td>\n",
       "      <td>Менеджер по продажам ЗП</td>\n",
       "      <td>1.0</td>\n",
       "      <td>2020-03-04 01:44:59</td>\n",
       "      <td>2021-05-21 14:28:53</td>\n",
       "      <td>active</td>\n",
       "      <td>55.0</td>\n",
       "      <td>296.0</td>\n",
       "      <td>173.0</td>\n",
       "      <td>0.000000</td>\n",
       "      <td>0.0</td>\n",
       "      <td>0.0</td>\n",
       "    </tr>\n",
       "    <tr>\n",
       "      <th>4</th>\n",
       "      <td>21</td>\n",
       "      <td>0.0</td>\n",
       "      <td>0.0</td>\n",
       "      <td>235.0</td>\n",
       "      <td>0.0</td>\n",
       "      <td>55.0</td>\n",
       "      <td>0.0</td>\n",
       "      <td>0.0</td>\n",
       "      <td>0.0</td>\n",
       "      <td>0.0</td>\n",
       "      <td>0</td>\n",
       "      <td>293</td>\n",
       "      <td>0.0</td>\n",
       "      <td>293.0</td>\n",
       "      <td>0.0</td>\n",
       "      <td>0.0</td>\n",
       "      <td>0</td>\n",
       "      <td>0</td>\n",
       "      <td>21</td>\n",
       "      <td>Менеджер по продажам ЗП</td>\n",
       "      <td>1.0</td>\n",
       "      <td>2020-03-04 01:44:59</td>\n",
       "      <td>2021-05-21 14:28:53</td>\n",
       "      <td>active</td>\n",
       "      <td>55.0</td>\n",
       "      <td>295.0</td>\n",
       "      <td>173.0</td>\n",
       "      <td>0.000000</td>\n",
       "      <td>0.0</td>\n",
       "      <td>0.0</td>\n",
       "    </tr>\n",
       "  </tbody>\n",
       "</table>\n",
       "</div>"
      ],
      "text/plain": [
       "   user_id  card_given  client_deny  appoint_made  appoint_postponed  \\\n",
       "0       16         0.0          0.0           1.0                0.0   \n",
       "1       18         0.0          2.0          92.0                2.0   \n",
       "2       19         0.0          0.0         358.0                5.0   \n",
       "3       20         0.0          0.0         198.0                1.0   \n",
       "4       21         0.0          0.0         235.0                0.0   \n",
       "\n",
       "   road_map  error_data  potential  to_deny  agreement_received  return_task  \\\n",
       "0       0.0         0.0        0.0      0.0                 0.0            0   \n",
       "1       1.0         0.0        0.0      0.0                 0.0            0   \n",
       "2      80.0         0.0        2.0      0.0                 0.0            0   \n",
       "3     194.0         0.0       19.0      0.0                 0.0            0   \n",
       "4      55.0         0.0        0.0      0.0                 0.0            0   \n",
       "\n",
       "   overall  active  completed  postponed  declined  new  in_progress  id  \\\n",
       "0       13     6.0        7.0        0.0       0.0    0            0  16   \n",
       "1       99     2.0       95.0        2.0       0.0    0            0  18   \n",
       "2      452     4.0      443.0        5.0       0.0    0            0  19   \n",
       "3      419     7.0      411.0        1.0       0.0    0            0  20   \n",
       "4      293     0.0      293.0        0.0       0.0    0            0  21   \n",
       "\n",
       "                      role  role_id           created_at           updated_at  \\\n",
       "0                       ГО      4.0  2020-03-04 01:44:59  2021-05-21 14:28:53   \n",
       "1  Менеджер по продажам ЗП      1.0  2020-03-04 01:44:59  2021-05-21 14:28:53   \n",
       "2  Менеджер по продажам ЗП      1.0  2020-03-04 01:44:59  2021-05-21 14:28:53   \n",
       "3  Менеджер по продажам ЗП      1.0  2020-03-04 01:44:59  2021-05-21 14:28:53   \n",
       "4  Менеджер по продажам ЗП      1.0  2020-03-04 01:44:59  2021-05-21 14:28:53   \n",
       "\n",
       "   status  branch_id  office_id  city_id  client_deny_to_overall  \\\n",
       "0  active       55.0      296.0    173.0                0.000000   \n",
       "1  active       55.0        NaN    173.0                2.020202   \n",
       "2  active       55.0      296.0    173.0                0.000000   \n",
       "3  active       55.0      296.0    173.0                0.000000   \n",
       "4  active       55.0      295.0    173.0                0.000000   \n",
       "\n",
       "   error_data_to_overall  to_deny_to_overall  \n",
       "0                    0.0                 0.0  \n",
       "1                    0.0                 0.0  \n",
       "2                    0.0                 0.0  \n",
       "3                    0.0                 0.0  \n",
       "4                    0.0                 0.0  "
      ]
     },
     "execution_count": 78,
     "metadata": {},
     "output_type": "execute_result"
    }
   ],
   "source": [
    "pd.set_option('display.max_columns', None)\n",
    "df.head()"
   ]
  },
  {
   "cell_type": "code",
   "execution_count": 65,
   "metadata": {},
   "outputs": [],
   "source": [
    "#Строим корреляционную матрицу по выбранным фичам"
   ]
  },
  {
   "cell_type": "code",
   "execution_count": 68,
   "metadata": {},
   "outputs": [],
   "source": [
    "df_cor = df[['overall', 'active','completed', 'new', 'return_task', 'to_deny', 'error_data', 'error_data_to_overall', 'client_deny_to_overall', 'to_deny_to_overall']]"
   ]
  },
  {
   "cell_type": "code",
   "execution_count": 86,
   "metadata": {},
   "outputs": [
    {
     "data": {
      "image/png": "[encoded data removed]",
      "text/plain": [
       "<Figure size 720x720 with 2 Axes>"
      ]
     },
     "metadata": {
      "needs_background": "light"
     },
     "output_type": "display_data"
    }
   ],
   "source": [
    "plt.figure(figsize=(10,10))\n",
    "sns.heatmap(df_cor.corr(), annot=True, vmin=-1, vmax=1, center=0, cmap='coolwarm')\n",
    "plt.show()"
   ]
  },
  {
   "cell_type": "code",
   "execution_count": null,
   "metadata": {},
   "outputs": [],
   "source": [
    "'''Из корреляционной матрицы видно, что:\n",
    "-отрицательная корреляция overall и to_deny_to_overall -> чаще отказываются от заказов менеджеры с маленьким опытом (у которых было мало заказов всего)\n",
    "-отрицательная корреляция client_deny_to_overall с overall и completed -> менее опытным менеджерам чаще отказывают\n",
    "-отрицательная корреляция active и client deny_to_overall -> у менеджеров, которые берут сразу много заданий параллельно меньше отказов\n",
    "'''"
   ]
  }
 ],
 "metadata": {
  "kernelspec": {
   "display_name": "Python 3",
   "language": "python",
   "name": "python3"
  },
  "language_info": {
   "codemirror_mode": {
    "name": "ipython",
    "version": 3
   },
   "file_extension": ".py",
   "mimetype": "text/x-python",
   "name": "python",
   "nbconvert_exporter": "python",
   "pygments_lexer": "ipython3",
   "version": "3.8.10"
  }
 },
 "nbformat": 4,
 "nbformat_minor": 4
}
