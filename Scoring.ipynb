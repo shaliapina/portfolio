{
 "cells": [
  {
   "cell_type": "code",
   "execution_count": 84,
   "metadata": {},
   "outputs": [],
   "source": [
    "import pandas as pd\n",
    "from mlbase.db import MLData, Table"
   ]
  },
  {
   "cell_type": "code",
   "execution_count": 108,
   "metadata": {},
   "outputs": [],
   "source": [
    "class Scorer:\n",
    "    \n",
    "    #Собирает кусок запроса sql с условиями скоринга\n",
    "    def data_to_custom_data(data):\n",
    "        custom_data = []\n",
    "        for feature in data:\n",
    "            name = feature['name']\n",
    "            sql = 'CASE '\n",
    "            for score in feature['scores']:\n",
    "                #Если нижняя граница интервала отсутствует, то проверяем только верхнюю\n",
    "                if feature['scores'][score]['low'] == None:\n",
    "                    sql += f'''WHEN \n",
    "                {feature['feature']} < {feature['scores'][score]['high']} \n",
    "                THEN\n",
    "                {score}\n",
    "                '''\n",
    "                \n",
    "                #Если верхняя граница интервала отсутствует, проверяем только нижнюю\n",
    "                elif feature['scores'][score]['high'] == None:\n",
    "                    sql += f'''WHEN \n",
    "                {feature['feature']} >= {feature['scores'][score]['low']} \n",
    "                THEN\n",
    "                {score}\n",
    "                '''\n",
    "                #Иначе проверяем обе границы\n",
    "                else:\n",
    "                    sql += f'''WHEN \n",
    "                {feature['feature']} >= {feature['scores'][score]['low']} \n",
    "                AND\n",
    "                {feature['feature']} < {feature['scores'][score]['high']} \n",
    "                THEN\n",
    "                {score}\n",
    "                '''\n",
    "            sql += ''' ELSE 0\n",
    "                        END'''\n",
    "            dic = {'name': name,\n",
    "                  'sql': sql}\n",
    "            custom_data.append(dic)\n",
    "        print(custom_data)\n",
    "        return custom_data\n",
    "    \n",
    "    \n",
    "        \n",
    "    #Собирает полный запрос sql\n",
    "    def _custom_scorer_sql(table_name, custom_data, result_column):\n",
    "        #Создаем и обнуляем колонку с итоговым баллом\n",
    "        sql = f'''\n",
    "        alter table {table_name} ADD column if not exists {result_column} float(53) default 0;\n",
    "        update {table_name} set {result_column} = 0;\n",
    "        '''\n",
    "        #Формируем запрос для подсчета скора по каждой фиче\n",
    "        for feature in custom_data:\n",
    "            sql += f'''\n",
    "            alter table {table_name} ADD column if not exists {feature['name']} float(53) default 0;\n",
    "            update {table_name} set {feature['name']} = 0;\n",
    "            update {table_name}\n",
    "            set {feature['name']} = {feature['sql']};\n",
    "            '''\n",
    "            #Прибавляем балл по каждой фиче к итоговому баллу\n",
    "            sql += f'''\n",
    "            update {table_name}\n",
    "                set {result_column} = {result_column} + {feature['name']};\n",
    "                '''\n",
    "\n",
    "        return sql\n",
    "\n",
    "    #Получаем на вход data, возвращаем custom_data\n",
    "    def scorer_sql(table_name, data, result_column):\n",
    "        custom_data = data_to_custom_data(data)\n",
    "        return _custom_scorer_sql(table_name, custom_data, result_column)\n",
    "    \n",
    "    #Выполняем запрос\n",
    "    def scorer(table_name, data, result_column, db):\n",
    "        sql = scorer_sql(table_name, data, result_column)\n",
    "        db.cur.execute(sql)\n",
    "        db.commit()\n",
    "        \n",
    "    #Если custom_data пользовательский, то пропускается один шаг и запрос выполняется так\n",
    "    def custom_scorer(table_name, custom_data, result_column, db):\n",
    "        sql = _custom_scorer_sql(table_name, custom_data, result_column)\n",
    "        db.cur.execute(sql)\n",
    "        db.commit()\n",
    "    \n",
    "    "
   ]
  },
  {
   "cell_type": "code",
   "execution_count": 109,
   "metadata": {},
   "outputs": [],
   "source": [
    "#Пример"
   ]
  },
  {
   "cell_type": "code",
   "execution_count": 110,
   "metadata": {},
   "outputs": [],
   "source": [
    "data = [\n",
    "    {\n",
    "        'name': 'score_count',\n",
    "        'feature': 'count',\n",
    "        'scores': {\n",
    "            0: {\n",
    "                'low': 0,\n",
    "                'high': 5\n",
    "            },\n",
    "            1: {\n",
    "                'low': 5,\n",
    "                'high': 10\n",
    "            },\n",
    "            2: {\n",
    "                'low': 10,\n",
    "                'high': 100\n",
    "            }\n",
    "            \n",
    "        }\n",
    "    },\n",
    "    {\n",
    "        'name': 'score_user',\n",
    "        'feature': 'user_id',\n",
    "        'scores': {\n",
    "            0: {\n",
    "                'low': None,\n",
    "                'high': 100\n",
    "            },\n",
    "            1: {\n",
    "                'low': 100,\n",
    "                'high': 1000\n",
    "            },\n",
    "            2: {\n",
    "                'low': 1000,\n",
    "                'high': None\n",
    "            }\n",
    "            \n",
    "        }\n",
    "    }\n",
    "]"
   ]
  },
  {
   "cell_type": "code",
   "execution_count": 111,
   "metadata": {},
   "outputs": [],
   "source": [
    "cls = Scorer\n",
    "cls.scorer('grouped_by_user_title', data, 'result_column', db)"
   ]
  },
  {
   "cell_type": "code",
   "execution_count": null,
   "metadata": {},
   "outputs": [],
   "source": [
    "#Пример для custom_data"
   ]
  },
  {
   "cell_type": "code",
   "execution_count": 115,
   "metadata": {},
   "outputs": [],
   "source": [
    "custom_data = [{'name': 'score_count',\n",
    "  'sql': '''CASE \n",
    "  WHEN                \n",
    "  count >= 0                \n",
    "  AND                \n",
    "  count < 5                \n",
    "  THEN 0                \n",
    "  WHEN                \n",
    "  count >= 5               \n",
    "  AND                \n",
    "  count < 10                \n",
    "  THEN 1               \n",
    "  WHEN \\n                \n",
    "  count >= 10\n",
    "  AND\n",
    "  count < 100    \n",
    "  THEN 2\n",
    "  ELSE 0\n",
    "  END'''},\n",
    " \n",
    " {'name': 'score_user',\n",
    "  'sql': '''CASE \n",
    "  WHEN   \n",
    "  user_id < 100\n",
    "  THEN 0\n",
    "  WHEN\n",
    "  user_id >= 100\n",
    "  AND\n",
    "  user_id < 1000\n",
    "  THEN 1               \n",
    "  WHEN\n",
    "  user_id >= 1000   \n",
    "  THEN 2\n",
    "  ELSE 0\n",
    "  END'''}]\n"
   ]
  },
  {
   "cell_type": "code",
   "execution_count": 116,
   "metadata": {},
   "outputs": [],
   "source": [
    "cls.custom_scorer('grouped_by_user_title', custom_data, 'result_column', db)"
   ]
  },
  {
   "cell_type": "code",
   "execution_count": null,
   "metadata": {},
   "outputs": [],
   "source": [
    "#Делаем скоринг для Новартиса"
   ]
  },
  {
   "cell_type": "code",
   "execution_count": 119,
   "metadata": {},
   "outputs": [],
   "source": [
    "custom_data = [\n",
    " \n",
    " {'name': 'score_detskij_sad__1000',\n",
    "  'sql': '''CASE \n",
    "        WHEN detskij_sad__1000 >= 21 then 2\n",
    "        WHEN detskij_sad__1000 >= 1 then 1\n",
    "         ELSE 0\n",
    "      END '''},\n",
    "              \n",
    "  {'name': 'score_avtomobilnaja_parkovka__500',\n",
    "  'sql': '''CASE \n",
    "        WHEN avtomobilnaja_parkovka__500 >= 11 then 2\n",
    "        WHEN avtomobilnaja_parkovka__500 >= 1 then 1\n",
    "         ELSE 0\n",
    "      END '''},\n",
    " \n",
    " {'name': 'score_all_objects__100',\n",
    "  'sql': '''CASE \n",
    "        WHEN all_objects__100 >= 101 Then 2\n",
    "        WHEN all_objects__100 >= 1 then 1\n",
    "         ELSE 0\n",
    "      END '''}, \n",
    "              \n",
    "  {'name': 'score_routes_1905__100',\n",
    "  'sql': '''CASE \n",
    "        WHEN routes_1905__100 >= 21 then 2\n",
    "        WHEN routes_1905__100 >= 1 then 1\n",
    "         ELSE 0\n",
    "      END  '''},\n",
    " \n",
    " {'name': 'score_flats',\n",
    "  'sql': '''CASE \n",
    "        WHEN flats__300 >= 3001 then 2\n",
    "        WHEN flats__300 >= 1 then 1\n",
    "         ELSE 0\n",
    "      END '''}\n",
    "        ]\n"
   ]
  },
  {
   "cell_type": "code",
   "execution_count": 120,
   "metadata": {},
   "outputs": [],
   "source": [
    "cls.custom_scorer('drug_stores_base_geo_joined', custom_data, 'total_score', db)"
   ]
  },
  {
   "cell_type": "code",
   "execution_count": null,
   "metadata": {},
   "outputs": [],
   "source": [
    "#Переименуем колонки"
   ]
  },
  {
   "cell_type": "code",
   "execution_count": 144,
   "metadata": {},
   "outputs": [],
   "source": [
    "def renamer(old_name, new_name):\n",
    "    db.cur.execute(f'''alter table drug_stores_base_geo_joined\n",
    "    rename column {old_name} to {new_name}; ''')"
   ]
  },
  {
   "cell_type": "code",
   "execution_count": null,
   "metadata": {},
   "outputs": [],
   "source": [
    "l = [(old_name, new_name) for old_name, new_name in zip([\"score_detskij_sad__1000\", \"score_avtomobilnaja_parkovka__500\", \"score_all_objects__100\", \"score_routes_1905__100\", \"score_flats\"], \n",
    "                                                  ['\"Детский сад, балл\"', '\"Парковка, балл\"', '\"Трафик, балл\"', '\"Дороги, балл\"', '\"Квартиры, балл\"'])]"
   ]
  },
  {
   "cell_type": "code",
   "execution_count": 146,
   "metadata": {},
   "outputs": [],
   "source": [
    "db.commit()"
   ]
  },
  {
   "cell_type": "code",
   "execution_count": 147,
   "metadata": {},
   "outputs": [
    {
     "name": "stdout",
     "output_type": "stream",
     "text": [
      "score_detskij_sad__1000\n",
      "\"Детский сад, балл\"\n",
      "score_avtomobilnaja_parkovka__500\n",
      "\"Парковка, балл\"\n",
      "score_all_objects__100\n",
      "\"Трафик, балл\"\n",
      "score_routes_1905__100\n",
      "\"Дороги, балл\"\n",
      "score_flats\n",
      "\"Квартиры, балл\"\n"
     ]
    }
   ],
   "source": [
    "for old_name, new_name in l:\n",
    "    print(old_name)\n",
    "    print(new_name)\n",
    "    renamer(old_name, new_name)"
   ]
  },
  {
   "cell_type": "code",
   "execution_count": 148,
   "metadata": {},
   "outputs": [],
   "source": [
    "db.commit()"
   ]
  },
  {
   "cell_type": "code",
   "execution_count": 149,
   "metadata": {},
   "outputs": [],
   "source": [
    "db.cur.execute('''alter table drug_stores_base_geo_joined drop column score''')"
   ]
  },
  {
   "cell_type": "code",
   "execution_count": 166,
   "metadata": {},
   "outputs": [],
   "source": [
    "db.commit()"
   ]
  },
  {
   "cell_type": "code",
   "execution_count": 154,
   "metadata": {},
   "outputs": [],
   "source": [
    "renamer('total_score', '\"Итоговый балл\"')"
   ]
  },
  {
   "cell_type": "code",
   "execution_count": 156,
   "metadata": {},
   "outputs": [],
   "source": [
    "renamer('\"Дороги, балл\"', '\"общественный транспорт, балл\"')"
   ]
  },
  {
   "cell_type": "code",
   "execution_count": 165,
   "metadata": {},
   "outputs": [],
   "source": [
    "db.cur.execute(''' select point_id, \"Детский сад, балл\", \"Парковка, балл\", \"Трафик, балл\", \"Квартиры, балл\", \"общественный транспорт, балл\", \"Итоговый балл\"\n",
    "into drug_stores_scores\n",
    "from drug_stores_base_geo_joined;\n",
    "''')"
   ]
  },
  {
   "cell_type": "code",
   "execution_count": null,
   "metadata": {},
   "outputs": [],
   "source": [
    "db.commit()"
   ]
  }
 ],
 "metadata": {
  "kernelspec": {
   "display_name": "Python 3",
   "language": "python",
   "name": "python3"
  },
  "language_info": {
   "codemirror_mode": {
    "name": "ipython",
    "version": 3
   },
   "file_extension": ".py",
   "mimetype": "text/x-python",
   "name": "python",
   "nbconvert_exporter": "python",
   "pygments_lexer": "ipython3",
   "version": "3.8.10"
  }
 },
 "nbformat": 4,
 "nbformat_minor": 4
}
